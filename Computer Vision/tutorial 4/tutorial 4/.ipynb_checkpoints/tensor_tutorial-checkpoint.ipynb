{
 "cells": [
  {
   "cell_type": "code",
   "execution_count": 1,
   "metadata": {
    "executionInfo": {
     "elapsed": 1048,
     "status": "ok",
     "timestamp": 1603244250235,
     "user": {
      "displayName": "Lin Li",
      "photoUrl": "https://lh3.googleusercontent.com/a-/AOh14GiOUQDkyaUUbCpiC-44bwAuPrH-WQvRo6IPxjKiDw=s64",
      "userId": "08253274844841504917"
     },
     "user_tz": -660
    },
    "id": "kyoNHSeeujzd"
   },
   "outputs": [],
   "source": [
    "%matplotlib inline"
   ]
  },
  {
   "cell_type": "markdown",
   "metadata": {
    "id": "kRXN0Bt_ujzj"
   },
   "source": [
    "\n",
    "What is PyTorch?\n",
    "================\n",
    "\n",
    "It’s a Python-based scientific computing package targeted at two sets of\n",
    "audiences:\n",
    "\n",
    "-  A replacement for NumPy to use the power of GPUs\n",
    "-  a deep learning research platform that provides maximum flexibility\n",
    "   and speed\n",
    "\n",
    "Getting Started\n",
    "---------------\n",
    "\n",
    "Tensors\n",
    "\n",
    "Tensors are similar to NumPy’s ndarrays, with the addition being that\n",
    "Tensors can also be used on a GPU to accelerate computing.\n",
    "\n"
   ]
  },
  {
   "cell_type": "code",
   "execution_count": 2,
   "metadata": {
    "executionInfo": {
     "elapsed": 1040,
     "status": "ok",
     "timestamp": 1603244250237,
     "user": {
      "displayName": "Lin Li",
      "photoUrl": "https://lh3.googleusercontent.com/a-/AOh14GiOUQDkyaUUbCpiC-44bwAuPrH-WQvRo6IPxjKiDw=s64",
      "userId": "08253274844841504917"
     },
     "user_tz": -660
    },
    "id": "B-zEijnMujzk"
   },
   "outputs": [
    {
     "ename": "ModuleNotFoundError",
     "evalue": "No module named 'torch'",
     "output_type": "error",
     "traceback": [
      "\u001b[0;31m---------------------------------------------------------------------------\u001b[0m",
      "\u001b[0;31mModuleNotFoundError\u001b[0m                       Traceback (most recent call last)",
      "\u001b[0;32m<ipython-input-2-c92f3ea41741>\u001b[0m in \u001b[0;36m<module>\u001b[0;34m\u001b[0m\n\u001b[1;32m      1\u001b[0m \u001b[0;32mfrom\u001b[0m \u001b[0m__future__\u001b[0m \u001b[0;32mimport\u001b[0m \u001b[0mprint_function\u001b[0m\u001b[0;34m\u001b[0m\u001b[0;34m\u001b[0m\u001b[0m\n\u001b[0;32m----> 2\u001b[0;31m \u001b[0;32mimport\u001b[0m \u001b[0mtorch\u001b[0m\u001b[0;34m\u001b[0m\u001b[0;34m\u001b[0m\u001b[0m\n\u001b[0m",
      "\u001b[0;31mModuleNotFoundError\u001b[0m: No module named 'torch'"
     ]
    }
   ],
   "source": [
    "from __future__ import print_function\n",
    "import torch"
   ]
  },
  {
   "cell_type": "markdown",
   "metadata": {
    "id": "nV5OfJQVujzn"
   },
   "source": [
    "<div class=\"alert alert-info\"><h4>Note</h4><p>An uninitialized matrix is declared,\n",
    "    but does not contain definite known\n",
    "    values before it is used. When an\n",
    "    uninitialized matrix is created,\n",
    "    whatever values were in the allocated\n",
    "    memory at the time will appear as the initial values.</p></div>\n",
    "\n"
   ]
  },
  {
   "cell_type": "markdown",
   "metadata": {
    "id": "vsDUT0kAujzo"
   },
   "source": [
    "Construct a 5x3 matrix, uninitialized:\n",
    "\n"
   ]
  },
  {
   "cell_type": "code",
   "execution_count": 6,
   "metadata": {
    "colab": {
     "base_uri": "https://localhost:8080/",
     "height": 127
    },
    "executionInfo": {
     "elapsed": 1639,
     "status": "ok",
     "timestamp": 1603244250846,
     "user": {
      "displayName": "Lin Li",
      "photoUrl": "https://lh3.googleusercontent.com/a-/AOh14GiOUQDkyaUUbCpiC-44bwAuPrH-WQvRo6IPxjKiDw=s64",
      "userId": "08253274844841504917"
     },
     "user_tz": -660
    },
    "id": "wd81siL5ujzo",
    "outputId": "09dba2ca-b57a-4ea1-95f6-ee5315a4d726"
   },
   "outputs": [
    {
     "name": "stdout",
     "output_type": "stream",
     "text": [
      "tensor([[4.2228e-36, 0.0000e+00, 3.3631e-44],\n",
      "        [0.0000e+00,        nan, 4.4842e-44],\n",
      "        [1.1578e+27, 1.1362e+30, 7.1547e+22],\n",
      "        [4.5828e+30, 1.2121e+04, 7.1846e+22],\n",
      "        [9.2198e-39, 7.0374e+22, 1.6942e+25]])\n"
     ]
    }
   ],
   "source": [
    "x = torch.empty(5, 3)\n",
    "print(x)"
   ]
  },
  {
   "cell_type": "markdown",
   "metadata": {
    "id": "XexuomiJujzs"
   },
   "source": [
    "Construct a randomly initialized matrix:\n",
    "\n"
   ]
  },
  {
   "cell_type": "code",
   "execution_count": 7,
   "metadata": {
    "colab": {
     "base_uri": "https://localhost:8080/",
     "height": 127
    },
    "executionInfo": {
     "elapsed": 1629,
     "status": "ok",
     "timestamp": 1603244250847,
     "user": {
      "displayName": "Lin Li",
      "photoUrl": "https://lh3.googleusercontent.com/a-/AOh14GiOUQDkyaUUbCpiC-44bwAuPrH-WQvRo6IPxjKiDw=s64",
      "userId": "08253274844841504917"
     },
     "user_tz": -660
    },
    "id": "6ot4UkEXujzs",
    "outputId": "8ef8f61c-d73e-495d-83b7-aae655ebe39e"
   },
   "outputs": [
    {
     "name": "stdout",
     "output_type": "stream",
     "text": [
      "tensor([[0.2537, 0.4284, 0.2313],\n",
      "        [0.1268, 0.1773, 0.7437],\n",
      "        [0.7005, 0.6565, 0.6258],\n",
      "        [0.8134, 0.1197, 0.1983],\n",
      "        [0.6730, 0.5129, 0.4409]])\n"
     ]
    }
   ],
   "source": [
    "x = torch.rand(5, 3)\n",
    "print(x)"
   ]
  },
  {
   "cell_type": "markdown",
   "metadata": {
    "id": "j1vYgE0cujzw"
   },
   "source": [
    "Construct a matrix filled zeros and of dtype long:\n",
    "\n"
   ]
  },
  {
   "cell_type": "code",
   "execution_count": 8,
   "metadata": {
    "colab": {
     "base_uri": "https://localhost:8080/",
     "height": 127
    },
    "executionInfo": {
     "elapsed": 1620,
     "status": "ok",
     "timestamp": 1603244250849,
     "user": {
      "displayName": "Lin Li",
      "photoUrl": "https://lh3.googleusercontent.com/a-/AOh14GiOUQDkyaUUbCpiC-44bwAuPrH-WQvRo6IPxjKiDw=s64",
      "userId": "08253274844841504917"
     },
     "user_tz": -660
    },
    "id": "6G2CWPhgujzw",
    "outputId": "84941502-dd13-44e5-e68d-550efecec4c5"
   },
   "outputs": [
    {
     "name": "stdout",
     "output_type": "stream",
     "text": [
      "tensor([[0, 0, 0],\n",
      "        [0, 0, 0],\n",
      "        [0, 0, 0],\n",
      "        [0, 0, 0],\n",
      "        [0, 0, 0]])\n"
     ]
    }
   ],
   "source": [
    "x = torch.zeros(5, 3, dtype=torch.long)\n",
    "print(x)"
   ]
  },
  {
   "cell_type": "markdown",
   "metadata": {
    "id": "bUnc-RJdujzz"
   },
   "source": [
    "Construct a tensor directly from data:\n",
    "\n"
   ]
  },
  {
   "cell_type": "code",
   "execution_count": 9,
   "metadata": {
    "colab": {
     "base_uri": "https://localhost:8080/",
     "height": 39
    },
    "executionInfo": {
     "elapsed": 1610,
     "status": "ok",
     "timestamp": 1603244250850,
     "user": {
      "displayName": "Lin Li",
      "photoUrl": "https://lh3.googleusercontent.com/a-/AOh14GiOUQDkyaUUbCpiC-44bwAuPrH-WQvRo6IPxjKiDw=s64",
      "userId": "08253274844841504917"
     },
     "user_tz": -660
    },
    "id": "U0H9Gybkujz0",
    "outputId": "a80d8ed6-9c19-4311-8682-202988afadc9"
   },
   "outputs": [
    {
     "name": "stdout",
     "output_type": "stream",
     "text": [
      "tensor([5.5000, 3.0000])\n"
     ]
    }
   ],
   "source": [
    "x = torch.tensor([5.5, 3])\n",
    "print(x)"
   ]
  },
  {
   "cell_type": "markdown",
   "metadata": {
    "id": "uXXl-85Eujz4"
   },
   "source": [
    "or create a tensor based on an existing tensor. These methods\n",
    "will reuse properties of the input tensor, e.g. dtype, unless\n",
    "new values are provided by user\n",
    "\n"
   ]
  },
  {
   "cell_type": "code",
   "execution_count": 10,
   "metadata": {
    "colab": {
     "base_uri": "https://localhost:8080/",
     "height": 237
    },
    "executionInfo": {
     "elapsed": 1599,
     "status": "ok",
     "timestamp": 1603244250851,
     "user": {
      "displayName": "Lin Li",
      "photoUrl": "https://lh3.googleusercontent.com/a-/AOh14GiOUQDkyaUUbCpiC-44bwAuPrH-WQvRo6IPxjKiDw=s64",
      "userId": "08253274844841504917"
     },
     "user_tz": -660
    },
    "id": "EJO2ovylujz4",
    "outputId": "09202faf-b6cc-447d-b027-0f922e31fe22"
   },
   "outputs": [
    {
     "name": "stdout",
     "output_type": "stream",
     "text": [
      "tensor([[1., 1., 1.],\n",
      "        [1., 1., 1.],\n",
      "        [1., 1., 1.],\n",
      "        [1., 1., 1.],\n",
      "        [1., 1., 1.]], dtype=torch.float64)\n",
      "tensor([[-1.6164, -0.3194, -0.2940],\n",
      "        [-0.1710,  0.2585, -0.3259],\n",
      "        [ 1.7840, -0.5622, -0.5796],\n",
      "        [-1.3375, -0.1604, -0.3486],\n",
      "        [ 1.4008,  1.4630,  0.0265]])\n"
     ]
    }
   ],
   "source": [
    "x = x.new_ones(5, 3, dtype=torch.double)      # new_* methods take in sizes\n",
    "print(x)\n",
    "\n",
    "x = torch.randn_like(x, dtype=torch.float)    # override dtype!\n",
    "print(x)                                      # result has the same size"
   ]
  },
  {
   "cell_type": "markdown",
   "metadata": {
    "id": "5p8v9bGUujz7"
   },
   "source": [
    "Get its size:\n",
    "\n"
   ]
  },
  {
   "cell_type": "code",
   "execution_count": 11,
   "metadata": {
    "colab": {
     "base_uri": "https://localhost:8080/",
     "height": 39
    },
    "executionInfo": {
     "elapsed": 1587,
     "status": "ok",
     "timestamp": 1603244250852,
     "user": {
      "displayName": "Lin Li",
      "photoUrl": "https://lh3.googleusercontent.com/a-/AOh14GiOUQDkyaUUbCpiC-44bwAuPrH-WQvRo6IPxjKiDw=s64",
      "userId": "08253274844841504917"
     },
     "user_tz": -660
    },
    "id": "-ByMqq62ujz8",
    "outputId": "d718ca4f-7abb-4b21-b873-858ec10c17a3"
   },
   "outputs": [
    {
     "name": "stdout",
     "output_type": "stream",
     "text": [
      "torch.Size([5, 3])\n"
     ]
    }
   ],
   "source": [
    "print(x.size())"
   ]
  },
  {
   "cell_type": "markdown",
   "metadata": {
    "id": "_Nja0fe8ujz-"
   },
   "source": [
    "<div class=\"alert alert-info\"><h4>Note</h4><p>``torch.Size`` is in fact a tuple, so it supports all tuple operations.</p></div>\n",
    "\n",
    "Operations\n",
    "\n",
    "There are multiple syntaxes for operations. In the following\n",
    "example, we will take a look at the addition operation.\n",
    "\n",
    "Addition: syntax 1\n",
    "\n"
   ]
  },
  {
   "cell_type": "code",
   "execution_count": 12,
   "metadata": {
    "colab": {
     "base_uri": "https://localhost:8080/",
     "height": 127
    },
    "executionInfo": {
     "elapsed": 1579,
     "status": "ok",
     "timestamp": 1603244250855,
     "user": {
      "displayName": "Lin Li",
      "photoUrl": "https://lh3.googleusercontent.com/a-/AOh14GiOUQDkyaUUbCpiC-44bwAuPrH-WQvRo6IPxjKiDw=s64",
      "userId": "08253274844841504917"
     },
     "user_tz": -660
    },
    "id": "eOjx7j1xujz_",
    "outputId": "d803ebf2-15e5-4255-b0df-e2eea859480e"
   },
   "outputs": [
    {
     "name": "stdout",
     "output_type": "stream",
     "text": [
      "tensor([[-1.0710,  0.6054,  0.2416],\n",
      "        [ 0.8178,  0.8144,  0.3488],\n",
      "        [ 2.3232, -0.2518, -0.1512],\n",
      "        [-0.8454,  0.3065,  0.3215],\n",
      "        [ 2.3584,  1.7755,  0.6449]])\n"
     ]
    }
   ],
   "source": [
    "y = torch.rand(5, 3)\n",
    "print(x + y)"
   ]
  },
  {
   "cell_type": "markdown",
   "metadata": {
    "id": "MFzZUde5uj0C"
   },
   "source": [
    "Addition: syntax 2\n",
    "\n"
   ]
  },
  {
   "cell_type": "code",
   "execution_count": 13,
   "metadata": {
    "colab": {
     "base_uri": "https://localhost:8080/",
     "height": 127
    },
    "executionInfo": {
     "elapsed": 1568,
     "status": "ok",
     "timestamp": 1603244250856,
     "user": {
      "displayName": "Lin Li",
      "photoUrl": "https://lh3.googleusercontent.com/a-/AOh14GiOUQDkyaUUbCpiC-44bwAuPrH-WQvRo6IPxjKiDw=s64",
      "userId": "08253274844841504917"
     },
     "user_tz": -660
    },
    "id": "uzyGgxvauj0D",
    "outputId": "1562c74e-182e-4a9b-b80d-3000a4911173"
   },
   "outputs": [
    {
     "name": "stdout",
     "output_type": "stream",
     "text": [
      "tensor([[-1.0710,  0.6054,  0.2416],\n",
      "        [ 0.8178,  0.8144,  0.3488],\n",
      "        [ 2.3232, -0.2518, -0.1512],\n",
      "        [-0.8454,  0.3065,  0.3215],\n",
      "        [ 2.3584,  1.7755,  0.6449]])\n"
     ]
    }
   ],
   "source": [
    "print(torch.add(x, y))"
   ]
  },
  {
   "cell_type": "markdown",
   "metadata": {
    "id": "dDtMBL0Buj0J"
   },
   "source": [
    "Addition: providing an output tensor as argument\n",
    "\n"
   ]
  },
  {
   "cell_type": "code",
   "execution_count": 14,
   "metadata": {
    "colab": {
     "base_uri": "https://localhost:8080/",
     "height": 127
    },
    "executionInfo": {
     "elapsed": 1556,
     "status": "ok",
     "timestamp": 1603244250857,
     "user": {
      "displayName": "Lin Li",
      "photoUrl": "https://lh3.googleusercontent.com/a-/AOh14GiOUQDkyaUUbCpiC-44bwAuPrH-WQvRo6IPxjKiDw=s64",
      "userId": "08253274844841504917"
     },
     "user_tz": -660
    },
    "id": "548roN7Guj0K",
    "outputId": "a815eaf4-3295-4469-c3b5-a7d1bb0d7fae"
   },
   "outputs": [
    {
     "name": "stdout",
     "output_type": "stream",
     "text": [
      "tensor([[-1.0710,  0.6054,  0.2416],\n",
      "        [ 0.8178,  0.8144,  0.3488],\n",
      "        [ 2.3232, -0.2518, -0.1512],\n",
      "        [-0.8454,  0.3065,  0.3215],\n",
      "        [ 2.3584,  1.7755,  0.6449]])\n"
     ]
    }
   ],
   "source": [
    "result = torch.empty(5, 3)\n",
    "torch.add(x, y, out=result)\n",
    "print(result)"
   ]
  },
  {
   "cell_type": "markdown",
   "metadata": {
    "id": "3oo-T1Vjuj0N"
   },
   "source": [
    "Addition: in-place\n",
    "\n"
   ]
  },
  {
   "cell_type": "code",
   "execution_count": 15,
   "metadata": {
    "colab": {
     "base_uri": "https://localhost:8080/",
     "height": 237
    },
    "executionInfo": {
     "elapsed": 1545,
     "status": "ok",
     "timestamp": 1603244250858,
     "user": {
      "displayName": "Lin Li",
      "photoUrl": "https://lh3.googleusercontent.com/a-/AOh14GiOUQDkyaUUbCpiC-44bwAuPrH-WQvRo6IPxjKiDw=s64",
      "userId": "08253274844841504917"
     },
     "user_tz": -660
    },
    "id": "ao1Ni9Jfuj0N",
    "outputId": "c2210030-5ed0-4e47-a93c-8abc052f42b5"
   },
   "outputs": [
    {
     "name": "stdout",
     "output_type": "stream",
     "text": [
      "tensor([[0.5454, 0.9248, 0.5356],\n",
      "        [0.9888, 0.5560, 0.6747],\n",
      "        [0.5392, 0.3104, 0.4284],\n",
      "        [0.4921, 0.4669, 0.6701],\n",
      "        [0.9576, 0.3125, 0.6184]])\n",
      "tensor([[-1.0710,  0.6054,  0.2416],\n",
      "        [ 0.8178,  0.8144,  0.3488],\n",
      "        [ 2.3232, -0.2518, -0.1512],\n",
      "        [-0.8454,  0.3065,  0.3215],\n",
      "        [ 2.3584,  1.7755,  0.6449]])\n"
     ]
    }
   ],
   "source": [
    "# adds x to y\n",
    "print(y)\n",
    "y.add_(x)\n",
    "print(y)"
   ]
  },
  {
   "cell_type": "markdown",
   "metadata": {
    "id": "w0PZXZVauj0Q"
   },
   "source": [
    "<div class=\"alert alert-info\"><h4>Note</h4><p>Any operation that mutates a tensor in-place is post-fixed with an ``_``.\n",
    "    For example: ``x.copy_(y)``, ``x.t_()``, will change ``x``.</p></div>\n",
    "\n",
    "You can use standard NumPy-like indexing with all bells and whistles!\n",
    "\n"
   ]
  },
  {
   "cell_type": "code",
   "execution_count": 16,
   "metadata": {
    "colab": {
     "base_uri": "https://localhost:8080/",
     "height": 39
    },
    "executionInfo": {
     "elapsed": 1535,
     "status": "ok",
     "timestamp": 1603244250859,
     "user": {
      "displayName": "Lin Li",
      "photoUrl": "https://lh3.googleusercontent.com/a-/AOh14GiOUQDkyaUUbCpiC-44bwAuPrH-WQvRo6IPxjKiDw=s64",
      "userId": "08253274844841504917"
     },
     "user_tz": -660
    },
    "id": "kwGT625Suj0R",
    "outputId": "99c192e5-f460-4bf8-a8b1-800308c77ced"
   },
   "outputs": [
    {
     "name": "stdout",
     "output_type": "stream",
     "text": [
      "tensor([-0.3194,  0.2585, -0.5622, -0.1604,  1.4630])\n"
     ]
    }
   ],
   "source": [
    "print(x[:, 1])"
   ]
  },
  {
   "cell_type": "markdown",
   "metadata": {
    "id": "1MhMbq23uj0T"
   },
   "source": [
    "Resizing: If you want to resize/reshape tensor, you can use ``torch.view``:\n",
    "\n"
   ]
  },
  {
   "cell_type": "code",
   "execution_count": 17,
   "metadata": {
    "colab": {
     "base_uri": "https://localhost:8080/",
     "height": 39
    },
    "executionInfo": {
     "elapsed": 1523,
     "status": "ok",
     "timestamp": 1603244250860,
     "user": {
      "displayName": "Lin Li",
      "photoUrl": "https://lh3.googleusercontent.com/a-/AOh14GiOUQDkyaUUbCpiC-44bwAuPrH-WQvRo6IPxjKiDw=s64",
      "userId": "08253274844841504917"
     },
     "user_tz": -660
    },
    "id": "9Aegi71Cuj0U",
    "outputId": "1f38c3be-6d26-4357-9647-72152c163718"
   },
   "outputs": [
    {
     "name": "stdout",
     "output_type": "stream",
     "text": [
      "torch.Size([4, 4]) torch.Size([16]) torch.Size([2, 8])\n"
     ]
    }
   ],
   "source": [
    "x = torch.randn(4, 4)\n",
    "y = x.view(16)\n",
    "z = x.view(-1, 8)  # the size -1 is inferred from other dimensions\n",
    "print(x.size(), y.size(), z.size())"
   ]
  },
  {
   "cell_type": "markdown",
   "metadata": {
    "id": "j4GYTRbSuj0W"
   },
   "source": [
    "If you have a one element tensor, use ``.item()`` to get the value as a\n",
    "Python number\n",
    "\n"
   ]
  },
  {
   "cell_type": "code",
   "execution_count": 18,
   "metadata": {
    "colab": {
     "base_uri": "https://localhost:8080/",
     "height": 61
    },
    "executionInfo": {
     "elapsed": 1504,
     "status": "ok",
     "timestamp": 1603244250861,
     "user": {
      "displayName": "Lin Li",
      "photoUrl": "https://lh3.googleusercontent.com/a-/AOh14GiOUQDkyaUUbCpiC-44bwAuPrH-WQvRo6IPxjKiDw=s64",
      "userId": "08253274844841504917"
     },
     "user_tz": -660
    },
    "id": "O-6YC_-Uuj0X",
    "outputId": "efa8ba2f-4657-4355-847e-e796f07a655b"
   },
   "outputs": [
    {
     "name": "stdout",
     "output_type": "stream",
     "text": [
      "tensor([-0.5682])\n",
      "-0.5682191252708435\n"
     ]
    }
   ],
   "source": [
    "x = torch.randn(1)\n",
    "print(x)\n",
    "print(x.item())"
   ]
  },
  {
   "cell_type": "markdown",
   "metadata": {
    "id": "AR9hgumJuj0a"
   },
   "source": [
    "NumPy Bridge\n",
    "------------\n",
    "\n",
    "Converting a Torch Tensor to a NumPy array and vice versa is a breeze.\n",
    "\n",
    "The Torch Tensor and NumPy array will share their underlying memory\n",
    "locations (if the Torch Tensor is on CPU), and changing one will change\n",
    "the other.\n",
    "\n",
    "Converting a Torch Tensor to a NumPy Array\n",
    "\n"
   ]
  },
  {
   "cell_type": "code",
   "execution_count": 19,
   "metadata": {
    "colab": {
     "base_uri": "https://localhost:8080/",
     "height": 39
    },
    "executionInfo": {
     "elapsed": 1492,
     "status": "ok",
     "timestamp": 1603244250862,
     "user": {
      "displayName": "Lin Li",
      "photoUrl": "https://lh3.googleusercontent.com/a-/AOh14GiOUQDkyaUUbCpiC-44bwAuPrH-WQvRo6IPxjKiDw=s64",
      "userId": "08253274844841504917"
     },
     "user_tz": -660
    },
    "id": "lzcDvFP7uj0b",
    "outputId": "a55ac3dc-4b54-4fa1-f238-c479dcbb072e"
   },
   "outputs": [
    {
     "name": "stdout",
     "output_type": "stream",
     "text": [
      "tensor([1., 1., 1., 1., 1.])\n"
     ]
    }
   ],
   "source": [
    "a = torch.ones(5)\n",
    "print(a)"
   ]
  },
  {
   "cell_type": "code",
   "execution_count": 20,
   "metadata": {
    "colab": {
     "base_uri": "https://localhost:8080/",
     "height": 39
    },
    "executionInfo": {
     "elapsed": 1479,
     "status": "ok",
     "timestamp": 1603244250863,
     "user": {
      "displayName": "Lin Li",
      "photoUrl": "https://lh3.googleusercontent.com/a-/AOh14GiOUQDkyaUUbCpiC-44bwAuPrH-WQvRo6IPxjKiDw=s64",
      "userId": "08253274844841504917"
     },
     "user_tz": -660
    },
    "id": "96STYwu5uj0e",
    "outputId": "e4473392-4f3f-4e36-ab74-243df3d4eed3"
   },
   "outputs": [
    {
     "name": "stdout",
     "output_type": "stream",
     "text": [
      "[1. 1. 1. 1. 1.]\n"
     ]
    }
   ],
   "source": [
    "b = a.numpy()\n",
    "print(b)"
   ]
  },
  {
   "cell_type": "markdown",
   "metadata": {
    "id": "xi7S4Hnuuj0i"
   },
   "source": [
    "See how the numpy array changed in value.\n",
    "\n"
   ]
  },
  {
   "cell_type": "code",
   "execution_count": 21,
   "metadata": {
    "colab": {
     "base_uri": "https://localhost:8080/",
     "height": 83
    },
    "executionInfo": {
     "elapsed": 1467,
     "status": "ok",
     "timestamp": 1603244250864,
     "user": {
      "displayName": "Lin Li",
      "photoUrl": "https://lh3.googleusercontent.com/a-/AOh14GiOUQDkyaUUbCpiC-44bwAuPrH-WQvRo6IPxjKiDw=s64",
      "userId": "08253274844841504917"
     },
     "user_tz": -660
    },
    "id": "KWaO4rsLuj0i",
    "outputId": "ce0684a8-0c0a-4fe0-f440-aecc580295e6"
   },
   "outputs": [
    {
     "name": "stdout",
     "output_type": "stream",
     "text": [
      "tensor([1., 1., 1., 1., 1.])\n",
      "tensor([2., 2., 2., 2., 2.])\n",
      "[2. 2. 2. 2. 2.]\n"
     ]
    }
   ],
   "source": [
    "print(a)\n",
    "a.add_(1)\n",
    "print(a)\n",
    "print(b)"
   ]
  },
  {
   "cell_type": "markdown",
   "metadata": {
    "id": "fdOtAEvhuj0l"
   },
   "source": [
    "Converting NumPy Array to Torch Tensor\n",
    "---------------\n",
    "See how changing the np array changed the Torch Tensor automatically\n",
    "\n"
   ]
  },
  {
   "cell_type": "code",
   "execution_count": 22,
   "metadata": {
    "colab": {
     "base_uri": "https://localhost:8080/",
     "height": 61
    },
    "executionInfo": {
     "elapsed": 1456,
     "status": "ok",
     "timestamp": 1603244250865,
     "user": {
      "displayName": "Lin Li",
      "photoUrl": "https://lh3.googleusercontent.com/a-/AOh14GiOUQDkyaUUbCpiC-44bwAuPrH-WQvRo6IPxjKiDw=s64",
      "userId": "08253274844841504917"
     },
     "user_tz": -660
    },
    "id": "cHAxJweKuj0l",
    "outputId": "c6fe7fe8-9667-4473-f059-be7f19a3060c"
   },
   "outputs": [
    {
     "name": "stdout",
     "output_type": "stream",
     "text": [
      "[2. 2. 2. 2. 2.]\n",
      "tensor([2., 2., 2., 2., 2.], dtype=torch.float64)\n"
     ]
    }
   ],
   "source": [
    "import numpy as np\n",
    "a = np.ones(5)\n",
    "b = torch.from_numpy(a)\n",
    "np.add(a, 1, out=a)\n",
    "print(a)\n",
    "print(b)"
   ]
  },
  {
   "cell_type": "markdown",
   "metadata": {
    "id": "kv6W7m1Luj0o"
   },
   "source": [
    "All the Tensors on the CPU except a CharTensor support converting to\n",
    "NumPy and back.\n",
    "\n",
    "CUDA Tensors\n",
    "------------\n",
    "\n",
    "Tensors can be moved onto any device using the ``.to`` method.\n",
    "\n"
   ]
  },
  {
   "cell_type": "code",
   "execution_count": 23,
   "metadata": {
    "colab": {
     "base_uri": "https://localhost:8080/",
     "height": 61
    },
    "executionInfo": {
     "elapsed": 11034,
     "status": "ok",
     "timestamp": 1603244260454,
     "user": {
      "displayName": "Lin Li",
      "photoUrl": "https://lh3.googleusercontent.com/a-/AOh14GiOUQDkyaUUbCpiC-44bwAuPrH-WQvRo6IPxjKiDw=s64",
      "userId": "08253274844841504917"
     },
     "user_tz": -660
    },
    "id": "l3tq8UOzuj0o",
    "outputId": "a06ad03d-cd57-456d-9c94-39b0b17f9a03"
   },
   "outputs": [
    {
     "name": "stdout",
     "output_type": "stream",
     "text": [
      "tensor([0.4318], device='cuda:0')\n",
      "tensor([0.4318], dtype=torch.float64)\n"
     ]
    }
   ],
   "source": [
    "# let us run this cell only if CUDA is available\n",
    "# We will use ``torch.device`` objects to move tensors in and out of GPU\n",
    "if torch.cuda.is_available():\n",
    "    device = torch.device(\"cuda\")          # a CUDA device object\n",
    "    y = torch.ones_like(x, device=device)  # directly create a tensor on GPU\n",
    "    x = x.to(device)                       # or just use strings ``.to(\"cuda\")``\n",
    "    z = x + y\n",
    "    print(z)\n",
    "    print(z.to(\"cpu\", torch.double))       # ``.to`` can also change dtype together!"
   ]
  }
 ],
 "metadata": {
  "accelerator": "GPU",
  "colab": {
   "name": "tensor_tutorial.ipynb",
   "provenance": [
    {
     "file_id": "https://github.com/pytorch/tutorials/blob/gh-pages/_downloads/3c2b25b8a9f72db7780a6bf9b5fc9f62/tensor_tutorial.ipynb",
     "timestamp": 1603241698129
    }
   ]
  },
  "kernelspec": {
   "display_name": "Python 3",
   "language": "python",
   "name": "python3"
  },
  "language_info": {
   "codemirror_mode": {
    "name": "ipython",
    "version": 3
   },
   "file_extension": ".py",
   "mimetype": "text/x-python",
   "name": "python",
   "nbconvert_exporter": "python",
   "pygments_lexer": "ipython3",
   "version": "3.7.6"
  }
 },
 "nbformat": 4,
 "nbformat_minor": 1
}
